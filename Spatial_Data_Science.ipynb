{
  "nbformat": 4,
  "nbformat_minor": 0,
  "metadata": {
    "colab": {
      "provenance": [],
      "authorship_tag": "ABX9TyMkt5Py0sU0nfgJ/WS71CtI",
      "include_colab_link": true
    },
    "kernelspec": {
      "name": "python3",
      "display_name": "Python 3"
    },
    "language_info": {
      "name": "python"
    }
  },
  "cells": [
    {
      "cell_type": "markdown",
      "metadata": {
        "id": "view-in-github",
        "colab_type": "text"
      },
      "source": [
        "<a href=\"https://colab.research.google.com/github/pascale25/Spatial_Data_Science/blob/master/Spatial_Data_Science.ipynb\" target=\"_parent\"><img src=\"https://colab.research.google.com/assets/colab-badge.svg\" alt=\"Open In Colab\"/></a>"
      ]
    },
    {
      "cell_type": "code",
      "execution_count": null,
      "metadata": {
        "id": "CqklHbg6f7T-"
      },
      "outputs": [],
      "source": [
        "#Spatial Data Science: The New Frontier in Analytics"
      ]
    },
    {
      "cell_type": "code",
      "source": [
        "## Data engineering is one of the first steps that a spatial data scientist completes before they begin their analysis"
      ],
      "metadata": {
        "id": "xG3UGckhgO98"
      },
      "execution_count": null,
      "outputs": []
    },
    {
      "cell_type": "code",
      "source": [],
      "metadata": {
        "id": "p4lcsBPngRzG"
      },
      "execution_count": null,
      "outputs": []
    },
    {
      "cell_type": "code",
      "source": [],
      "metadata": {
        "id": "eof3_AokgR9K"
      },
      "execution_count": null,
      "outputs": []
    }
  ]
}